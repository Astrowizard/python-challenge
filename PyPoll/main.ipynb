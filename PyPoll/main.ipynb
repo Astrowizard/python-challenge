{
 "cells": [
  {
   "cell_type": "code",
   "execution_count": 1,
   "metadata": {},
   "outputs": [],
   "source": [
    "import os\n",
    "import csv"
   ]
  },
  {
   "cell_type": "code",
   "execution_count": 2,
   "metadata": {},
   "outputs": [],
   "source": [
    "def get_candidate(can):\n",
    "    bool = False\n",
    "    for i in candidates:\n",
    "        if can == i:\n",
    "            bool = True\n",
    "    \n",
    "    if not bool:\n",
    "        candidates.append(can)\n",
    "        c_votes.append(0)"
   ]
  },
  {
   "cell_type": "code",
   "execution_count": 3,
   "metadata": {},
   "outputs": [],
   "source": [
    "def count_vote(can):\n",
    "    index = 0\n",
    "    for i in candidates:\n",
    "        if can == i:\n",
    "            c_votes[index] += 1\n",
    "        index += 1"
   ]
  },
  {
   "cell_type": "code",
   "execution_count": 4,
   "metadata": {},
   "outputs": [],
   "source": [
    "def calc_percent():\n",
    "    for i in c_votes:\n",
    "        c_percent.append((i/t_votes)*100)"
   ]
  },
  {
   "cell_type": "code",
   "execution_count": 5,
   "metadata": {},
   "outputs": [],
   "source": [
    "def get_winner():\n",
    "    h = 0\n",
    "    index = -1\n",
    "    can = 0\n",
    "    for i in c_votes:\n",
    "        index += 1\n",
    "        if i > h:\n",
    "            h = i\n",
    "            can = index\n",
    "    return can"
   ]
  },
  {
   "cell_type": "code",
   "execution_count": 6,
   "metadata": {},
   "outputs": [],
   "source": [
    "ifile1 = os.path.join(\"Resources\",\"election_data.csv\")\n",
    "\n",
    "ofile = os.path.join(\"results.txt\")\n",
    "\n",
    "t_votes = 0\n",
    "candidates = []\n",
    "c_percent = []\n",
    "c_votes = []\n",
    "winner = ''"
   ]
  },
  {
   "cell_type": "code",
   "execution_count": 7,
   "metadata": {},
   "outputs": [],
   "source": [
    "with open(ifile1, newline = '') as csv_file:\n",
    "\n",
    "    data = csv.reader(csv_file, delimiter = ',')\n",
    "    \n",
    "    head = next(data)\n",
    "    \n",
    "    for row in data:\n",
    "        t_votes += 1\n",
    "        get_candidate(row[2])\n",
    "        count_vote(row[2])\n",
    "        "
   ]
  },
  {
   "cell_type": "code",
   "execution_count": 8,
   "metadata": {},
   "outputs": [],
   "source": [
    "calc_percent()\n",
    "f = get_winner()\n",
    "winner = candidates[f]"
   ]
  },
  {
   "cell_type": "code",
   "execution_count": 9,
   "metadata": {},
   "outputs": [
    {
     "name": "stdout",
     "output_type": "stream",
     "text": [
      "Election Results\n",
      "-------------------\n",
      "Total Votes: 3521001\n",
      "-------------------\n",
      "Khan:63% (2218231)\n",
      "Correy:20% (704200)\n",
      "Li:14% (492940)\n",
      "O'Tooley:3% (105630)\n",
      "------------------\n",
      "Winner: Khan\n",
      "------------------\n"
     ]
    }
   ],
   "source": [
    "print(f\"Election Results\")\n",
    "print(f\"-------------------\")\n",
    "print(f\"Total Votes: {t_votes}\")\n",
    "print(f\"-------------------\")\n",
    "for i in range(0,len(candidates)):\n",
    "    print(f\"{candidates[i]}:{c_percent[i]:.0f}% ({c_votes[i]})\")\n",
    "print(f\"------------------\")\n",
    "print(f\"Winner: {winner}\")\n",
    "print(f\"------------------\")"
   ]
  },
  {
   "cell_type": "code",
   "execution_count": 10,
   "metadata": {},
   "outputs": [],
   "source": [
    "with open(ofile,'w') as out:\n",
    "    out.write(f\"Election Results\\n\")\n",
    "    out.write(f\"-------------------\\n\")\n",
    "    out.write(f\"Total Votes: {t_votes}\\n\")\n",
    "    out.write(f\"-------------------\\n\")\n",
    "    for i in range(0,len(candidates)):\n",
    "        out.write(f\"{candidates[i]}:{c_percent[i]:.0f}% ({c_votes[i]})\\n\")\n",
    "    out.write(f\"------------------\\n\")\n",
    "    out.write(f\"Winner: {winner}\\n\")\n",
    "    out.write(f\"------------------\\n\")"
   ]
  },
  {
   "cell_type": "code",
   "execution_count": null,
   "metadata": {},
   "outputs": [],
   "source": []
  }
 ],
 "metadata": {
  "kernelspec": {
   "display_name": "Conda {PythonData}",
   "language": "python",
   "name": "pythondata"
  },
  "language_info": {
   "codemirror_mode": {
    "name": "ipython",
    "version": 3
   },
   "file_extension": ".py",
   "mimetype": "text/x-python",
   "name": "python",
   "nbconvert_exporter": "python",
   "pygments_lexer": "ipython3",
   "version": "3.6.9"
  }
 },
 "nbformat": 4,
 "nbformat_minor": 2
}
