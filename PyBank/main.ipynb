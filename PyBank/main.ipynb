{
 "cells": [
  {
   "cell_type": "code",
   "execution_count": 1,
   "metadata": {},
   "outputs": [],
   "source": [
    "import os\n",
    "import csv"
   ]
  },
  {
   "cell_type": "code",
   "execution_count": 2,
   "metadata": {},
   "outputs": [],
   "source": [
    "def total(previous, change):\n",
    "    total = previous + change\n",
    "    return total"
   ]
  },
  {
   "cell_type": "code",
   "execution_count": 3,
   "metadata": {},
   "outputs": [],
   "source": [
    "def greatest_increase(current, new):\n",
    "    if (int(new[1]) > int(current[1])):\n",
    "        return new\n",
    "    else:\n",
    "        return current"
   ]
  },
  {
   "cell_type": "code",
   "execution_count": 4,
   "metadata": {},
   "outputs": [],
   "source": [
    "def greatest_decrease(current, new):\n",
    "    if (int(new[1]) < int(current[1])):\n",
    "        return new\n",
    "    else:\n",
    "        return current"
   ]
  },
  {
   "cell_type": "code",
   "execution_count": 5,
   "metadata": {},
   "outputs": [],
   "source": [
    "csv_path = os.path.join(\"Resources\", \"budget_data.csv\")\n",
    "\n",
    "write_path = os.path.join(\"Resources\", \"Analysis.txt\")\n",
    "\n",
    "ttl = 0\n",
    "grtest_inc = [\"\", 0]\n",
    "grtest_dec = [\"\", 0]\n",
    "average_change = 0\n",
    "number_months = 0"
   ]
  },
  {
   "cell_type": "code",
   "execution_count": 6,
   "metadata": {},
   "outputs": [
    {
     "name": "stdout",
     "output_type": "stream",
     "text": [
      "Financial Analysis\n",
      "-------------------------\n",
      "Total Months: 86\n",
      "Total Profit: $38382578\n",
      "Greatest Increase: Feb-2012, $1170593\n",
      "Greatest Decrease: Sep-2013, $-1196225\n",
      "Average Change: $446309.05\n"
     ]
    }
   ],
   "source": [
    "with open(csv_path, newline = '') as csv_file:\n",
    "    \n",
    "    csv_reader = csv.reader(csv_file, delimiter = \",\")\n",
    "    \n",
    "    header = next(csv_reader)\n",
    "    \n",
    "    for row in csv_reader:\n",
    "        number_months += 1\n",
    "        grtest_inc = greatest_increase(grtest_inc, row)\n",
    "        grtest_dec = greatest_decrease(grtest_dec, row)\n",
    "        ttl = total(ttl, int(row[1]))\n",
    "    \n",
    "average_change = ttl/number_months\n",
    "    \n",
    "print(\"Financial Analysis\")\n",
    "print(\"-------------------------\")\n",
    "print(f\"Total Months: {number_months}\")\n",
    "print(f\"Total Profit: ${ttl}\")\n",
    "print(f\"Greatest Increase: {grtest_inc[0]}, ${grtest_inc[1]}\")\n",
    "print(f\"Greatest Decrease: {grtest_dec[0]}, ${grtest_dec[1]}\")\n",
    "print(f\"Average Change: ${average_change:.2f}\")"
   ]
  },
  {
   "cell_type": "code",
   "execution_count": 7,
   "metadata": {},
   "outputs": [],
   "source": [
    "with open(write_path, \"w\") as file1:\n",
    "    file1.write(\"Financial Analysis\\n\")\n",
    "    file1.write(\"-------------------------\\n\")\n",
    "    file1.write(f\"Total Months: {number_months}\\n\")\n",
    "    file1.write(f\"Total Profit: ${ttl}\\n\")\n",
    "    file1.write(f\"Greatest Increase: {grtest_inc[0]}, ${grtest_inc[1]}\\n\")\n",
    "    file1.write(f\"Greatest Decrease: {grtest_dec[0]}, ${grtest_dec[1]}\\n\")\n",
    "    file1.write(f\"Average Change: ${average_change:.2f}\\n\")"
   ]
  },
  {
   "cell_type": "code",
   "execution_count": null,
   "metadata": {},
   "outputs": [],
   "source": []
  }
 ],
 "metadata": {
  "kernelspec": {
   "display_name": "Conda {PythonData}",
   "language": "python",
   "name": "pythondata"
  },
  "language_info": {
   "codemirror_mode": {
    "name": "ipython",
    "version": 3
   },
   "file_extension": ".py",
   "mimetype": "text/x-python",
   "name": "python",
   "nbconvert_exporter": "python",
   "pygments_lexer": "ipython3",
   "version": "3.6.9"
  }
 },
 "nbformat": 4,
 "nbformat_minor": 2
}
